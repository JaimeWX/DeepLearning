{
 "cells": [
  {
   "cell_type": "code",
   "execution_count": 1,
   "id": "03b645b1",
   "metadata": {},
   "outputs": [],
   "source": [
    "import tensorflow as tf"
   ]
  },
  {
   "cell_type": "code",
   "execution_count": 4,
   "id": "bb99bfdd",
   "metadata": {},
   "outputs": [],
   "source": [
    "### 待优化张量（需要计算梯度信息的张量）"
   ]
  },
  {
   "cell_type": "code",
   "execution_count": null,
   "id": "61591049",
   "metadata": {},
   "outputs": [],
   "source": [
    "###1 tf.Variable的作用是什么？\n",
    "# 一种专门的数据类型来支持梯度信息的记录\n",
    "# 为了区分需要计算梯度信息的张量与不需要计算梯度信息的张量"
   ]
  },
  {
   "cell_type": "code",
   "execution_count": null,
   "id": "e48aff99",
   "metadata": {},
   "outputs": [],
   "source": [
    "###2 tf.Variable与普通的张量类型的区别是什么？\n",
    "# tf.Variable 类型在普通的张量类型基础上添加了 name， trainable 等属性来支持计算图的构建。"
   ]
  },
  {
   "cell_type": "code",
   "execution_count": 5,
   "id": "c61b94a7",
   "metadata": {},
   "outputs": [],
   "source": [
    "###3 哪些是需要优化的张量，哪些不是？\n",
    "# 需要优化的张量：如神经网络层的W和b，是需要计算梯度并优化的张量，需要通过tf.Variable包裹以便tf跟踪相关梯度信息\n",
    "# 不需要优化的张量：如神经网络的输入X，不需要通过tf.Variable封装\n",
    "# （梯度运算会消耗大量的计算资源，而且会自动更新相关参数）"
   ]
  },
  {
   "cell_type": "code",
   "execution_count": null,
   "id": "bf6b46d2",
   "metadata": {},
   "outputs": [],
   "source": [
    "###4 普通张量如何计算梯度信息(未经tf.Variable封装)？\n",
    "# 待优化张量可视为普通张量的特殊类型，普通张量可通过GradientTape.watch()方法临时加入跟踪梯度信息的列表，从而支持自动求导功能"
   ]
  },
  {
   "cell_type": "code",
   "execution_count": 2,
   "id": "7e4e8005",
   "metadata": {},
   "outputs": [
    {
     "data": {
      "text/plain": [
       "('Variable:0', True)"
      ]
     },
     "execution_count": 2,
     "metadata": {},
     "output_type": "execute_result"
    }
   ],
   "source": [
    "# 创建 TF 张量\n",
    "a = tf.constant([-1, 0, 1, 2]) \n",
    "# 转换为 Variable 类型\n",
    "aa = tf.Variable(a) \n",
    "# Variable 类型张量的属性\n",
    "aa.name, aa.trainable "
   ]
  },
  {
   "cell_type": "code",
   "execution_count": null,
   "id": "c7f3a527",
   "metadata": {},
   "outputs": [],
   "source": [
    "# name 属性用于命名计算图中的变量，这套命名体系是 TensorFlow 内部维护的， 一般不需要用户关注 name 属性；\n",
    "# trainable属性表征当前张量是否需要被优化，创建 Variable 对象时是默认启用优化标志，可以设置trainable=False 来设置张量不需要优化。"
   ]
  },
  {
   "cell_type": "code",
   "execution_count": 3,
   "id": "ffd07ebb",
   "metadata": {},
   "outputs": [
    {
     "data": {
      "text/plain": [
       "<tf.Variable 'Variable:0' shape=(2, 2) dtype=int32, numpy=\n",
       "array([[1, 2],\n",
       "       [3, 4]])>"
      ]
     },
     "execution_count": 3,
     "metadata": {},
     "output_type": "execute_result"
    }
   ],
   "source": [
    "# 直接创建 Variable 张量\n",
    "tf.Variable([[1,2],[3,4]]) "
   ]
  }
 ],
 "metadata": {
  "kernelspec": {
   "display_name": "Python 3 (ipykernel)",
   "language": "python",
   "name": "python3"
  },
  "language_info": {
   "codemirror_mode": {
    "name": "ipython",
    "version": 3
   },
   "file_extension": ".py",
   "mimetype": "text/x-python",
   "name": "python",
   "nbconvert_exporter": "python",
   "pygments_lexer": "ipython3",
   "version": "3.9.7"
  }
 },
 "nbformat": 4,
 "nbformat_minor": 5
}
