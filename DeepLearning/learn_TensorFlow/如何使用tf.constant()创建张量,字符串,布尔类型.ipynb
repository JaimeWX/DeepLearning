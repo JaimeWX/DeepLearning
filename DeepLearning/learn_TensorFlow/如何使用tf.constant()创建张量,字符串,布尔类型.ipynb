{
 "cells": [
  {
   "cell_type": "code",
   "execution_count": 8,
   "id": "c4665c10",
   "metadata": {},
   "outputs": [],
   "source": [
    "import tensorflow as tf"
   ]
  },
  {
   "cell_type": "code",
   "execution_count": 9,
   "id": "41ec852d",
   "metadata": {},
   "outputs": [],
   "source": [
    "###1 如何使用tensorflow创建标量（0维张量）"
   ]
  },
  {
   "cell_type": "code",
   "execution_count": 10,
   "id": "8c281f9b",
   "metadata": {},
   "outputs": [],
   "source": [
    "a = 1.2"
   ]
  },
  {
   "cell_type": "code",
   "execution_count": 11,
   "id": "3f8a332e",
   "metadata": {},
   "outputs": [],
   "source": [
    "aa = tf.constant(1.2) # 如果要使用tf提供的功能函数，必须通过tf规定的方式去创建张量，而不能使用python语言的标准变量创建方式"
   ]
  },
  {
   "cell_type": "code",
   "execution_count": 12,
   "id": "3bd7380e",
   "metadata": {},
   "outputs": [
    {
     "data": {
      "text/plain": [
       "(float, tensorflow.python.framework.ops.EagerTensor, True)"
      ]
     },
     "execution_count": 12,
     "metadata": {},
     "output_type": "execute_result"
    }
   ],
   "source": [
    "type(a), type(aa), tf.is_tensor(aa)"
   ]
  },
  {
   "cell_type": "code",
   "execution_count": 13,
   "id": "8b53fecf",
   "metadata": {},
   "outputs": [],
   "source": [
    "###2 如何使用tensorflow创建向量（1维张量）"
   ]
  },
  {
   "cell_type": "code",
   "execution_count": null,
   "id": "62764bcc",
   "metadata": {},
   "outputs": [],
   "source": [
    "# 与标量不同，向量的定义须通过 List 容器传给 tf.constant()函数。"
   ]
  },
  {
   "cell_type": "code",
   "execution_count": 14,
   "id": "e657a8b7",
   "metadata": {},
   "outputs": [],
   "source": [
    "x = tf.constant([1,2.,3.3])"
   ]
  },
  {
   "cell_type": "code",
   "execution_count": 15,
   "id": "23055f1b",
   "metadata": {},
   "outputs": [
    {
     "data": {
      "text/plain": [
       "<tf.Tensor: shape=(3,), dtype=float32, numpy=array([1. , 2. , 3.3], dtype=float32)>"
      ]
     },
     "execution_count": 15,
     "metadata": {},
     "output_type": "execute_result"
    }
   ],
   "source": [
    "x"
   ]
  },
  {
   "cell_type": "code",
   "execution_count": null,
   "id": "34a13123",
   "metadata": {},
   "outputs": [],
   "source": [
    "# 将 TF 张量的数据导出为 numpy 数组格式"
   ]
  },
  {
   "cell_type": "code",
   "execution_count": 16,
   "id": "92ee8ed4",
   "metadata": {},
   "outputs": [
    {
     "data": {
      "text/plain": [
       "array([1. , 2. , 3.3], dtype=float32)"
      ]
     },
     "execution_count": 16,
     "metadata": {},
     "output_type": "execute_result"
    }
   ],
   "source": [
    "x.numpy()"
   ]
  },
  {
   "cell_type": "code",
   "execution_count": 17,
   "id": "0e235cf2",
   "metadata": {},
   "outputs": [],
   "source": [
    "# 创建一个元素的向量\n",
    "a = tf.constant([1.2]) "
   ]
  },
  {
   "cell_type": "code",
   "execution_count": 18,
   "id": "d1260d89",
   "metadata": {},
   "outputs": [
    {
     "data": {
      "text/plain": [
       "TensorShape([1])"
      ]
     },
     "execution_count": 18,
     "metadata": {},
     "output_type": "execute_result"
    }
   ],
   "source": [
    "a.shape"
   ]
  },
  {
   "cell_type": "code",
   "execution_count": 19,
   "id": "0cfa2d58",
   "metadata": {},
   "outputs": [],
   "source": [
    "###3 如何使用tensorflow创建矩阵（2维张量）"
   ]
  },
  {
   "cell_type": "code",
   "execution_count": 20,
   "id": "e432c4f6",
   "metadata": {},
   "outputs": [
    {
     "data": {
      "text/plain": [
       "(<tf.Tensor: shape=(2, 2), dtype=int32, numpy=\n",
       " array([[1, 2],\n",
       "        [3, 4]])>,\n",
       " TensorShape([2, 2]))"
      ]
     },
     "execution_count": 20,
     "metadata": {},
     "output_type": "execute_result"
    }
   ],
   "source": [
    "# 创建 2 行 2 列的矩阵\n",
    "a = tf.constant([[1,2],[3,4]]) \n",
    "a, a.shape"
   ]
  },
  {
   "cell_type": "code",
   "execution_count": 21,
   "id": "45fda345",
   "metadata": {},
   "outputs": [],
   "source": [
    "###4 如何使用tensorflow创建3维张量"
   ]
  },
  {
   "cell_type": "code",
   "execution_count": 22,
   "id": "f054a3dc",
   "metadata": {},
   "outputs": [
    {
     "data": {
      "text/plain": [
       "<tf.Tensor: shape=(2, 2, 2), dtype=int32, numpy=\n",
       "array([[[1, 2],\n",
       "        [3, 4]],\n",
       "\n",
       "       [[5, 6],\n",
       "        [7, 8]]])>"
      ]
     },
     "execution_count": 22,
     "metadata": {},
     "output_type": "execute_result"
    }
   ],
   "source": [
    "tf.constant([[[1,2],[3,4]],[[5,6],[7,8]]])"
   ]
  },
  {
   "cell_type": "code",
   "execution_count": 23,
   "id": "027eccd7",
   "metadata": {},
   "outputs": [],
   "source": [
    "###5 如何使用tensorflow创建字符串"
   ]
  },
  {
   "cell_type": "code",
   "execution_count": 24,
   "id": "0513b8a4",
   "metadata": {},
   "outputs": [
    {
     "data": {
      "text/plain": [
       "<tf.Tensor: shape=(), dtype=string, numpy=b'Hello, Deep Learning.'>"
      ]
     },
     "execution_count": 24,
     "metadata": {},
     "output_type": "execute_result"
    }
   ],
   "source": [
    "# 创建字符串\n",
    "a = tf.constant('Hello, Deep Learning.') \n",
    "a"
   ]
  },
  {
   "cell_type": "code",
   "execution_count": 25,
   "id": "9a019172",
   "metadata": {},
   "outputs": [],
   "source": [
    "# 在 tf.strings 模块中，提供了常见的字符串类型的工具函数，如小写化 lower()、 拼接 join()、 长度 length()、 切分 split()等。"
   ]
  },
  {
   "cell_type": "code",
   "execution_count": 26,
   "id": "3fde6bff",
   "metadata": {},
   "outputs": [],
   "source": [
    "###6 如何使用tensorflow创建布尔类型"
   ]
  },
  {
   "cell_type": "code",
   "execution_count": 27,
   "id": "8ff7d3e6",
   "metadata": {},
   "outputs": [
    {
     "data": {
      "text/plain": [
       "<tf.Tensor: shape=(), dtype=bool, numpy=True>"
      ]
     },
     "execution_count": 27,
     "metadata": {},
     "output_type": "execute_result"
    }
   ],
   "source": [
    "# # 创建布尔类型标量\n",
    "tf.constant(True)"
   ]
  },
  {
   "cell_type": "code",
   "execution_count": 28,
   "id": "798faae9",
   "metadata": {},
   "outputs": [
    {
     "data": {
      "text/plain": [
       "<tf.Tensor: shape=(2,), dtype=bool, numpy=array([ True, False])>"
      ]
     },
     "execution_count": 28,
     "metadata": {},
     "output_type": "execute_result"
    }
   ],
   "source": [
    " # 创建布尔类型向量\n",
    "tf.constant([True, False])"
   ]
  },
  {
   "cell_type": "code",
   "execution_count": 29,
   "id": "b7e8519b",
   "metadata": {},
   "outputs": [],
   "source": [
    "# 需要注意的是， TensorFlow 的布尔类型和 Python 语言的布尔类型并不等价，不能通用"
   ]
  },
  {
   "cell_type": "code",
   "execution_count": 30,
   "id": "77b7e73a",
   "metadata": {},
   "outputs": [
    {
     "name": "stdout",
     "output_type": "stream",
     "text": [
      "False\n"
     ]
    }
   ],
   "source": [
    "# 创建 TF 布尔张量\n",
    "a = tf.constant(True) \n",
    "# TF 布尔类型张量与 python 布尔类型比较\n",
    "print(a is True) "
   ]
  },
  {
   "cell_type": "code",
   "execution_count": 31,
   "id": "5cbd9655",
   "metadata": {
    "scrolled": true
   },
   "outputs": [
    {
     "name": "stdout",
     "output_type": "stream",
     "text": [
      "tf.Tensor(True, shape=(), dtype=bool)\n"
     ]
    }
   ],
   "source": [
    "# 仅数值比较\n",
    "print(a == True) "
   ]
  }
 ],
 "metadata": {
  "kernelspec": {
   "display_name": "Python 3 (ipykernel)",
   "language": "python",
   "name": "python3"
  },
  "language_info": {
   "codemirror_mode": {
    "name": "ipython",
    "version": 3
   },
   "file_extension": ".py",
   "mimetype": "text/x-python",
   "name": "python",
   "nbconvert_exporter": "python",
   "pygments_lexer": "ipython3",
   "version": "3.9.7"
  }
 },
 "nbformat": 4,
 "nbformat_minor": 5
}
