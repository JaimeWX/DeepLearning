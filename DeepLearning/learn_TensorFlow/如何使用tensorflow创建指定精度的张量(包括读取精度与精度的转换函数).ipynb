{
 "cells": [
  {
   "cell_type": "code",
   "execution_count": 6,
   "id": "0142c340",
   "metadata": {},
   "outputs": [],
   "source": [
    "import tensorflow as tf"
   ]
  },
  {
   "cell_type": "code",
   "execution_count": 11,
   "id": "fac2b1ff",
   "metadata": {},
   "outputs": [],
   "source": [
    "###1 在创建张量时，可以指定张量的保存精度"
   ]
  },
  {
   "cell_type": "code",
   "execution_count": 12,
   "id": "64dccdcb",
   "metadata": {},
   "outputs": [],
   "source": [
    "# 常用的精度类型有tfint16,tf.int32,tf.int64,tf.float16,tf.float32,tf.float64(tf.double)等\n",
    "# 位越长，精度越高，同时占用的内存空间也就越大"
   ]
  },
  {
   "cell_type": "code",
   "execution_count": null,
   "id": "70fce710",
   "metadata": {},
   "outputs": [],
   "source": [
    "# 创建int类型的标量"
   ]
  },
  {
   "cell_type": "code",
   "execution_count": 8,
   "id": "a45ff2e1",
   "metadata": {},
   "outputs": [
    {
     "data": {
      "text/plain": [
       "<tf.Tensor: shape=(), dtype=int16, numpy=-13035>"
      ]
     },
     "execution_count": 8,
     "metadata": {},
     "output_type": "execute_result"
    }
   ],
   "source": [
    "a = tf.constant(123456789, dtype=tf.int16)\n",
    "a"
   ]
  },
  {
   "cell_type": "code",
   "execution_count": 10,
   "id": "8067f656",
   "metadata": {},
   "outputs": [],
   "source": [
    "# 可以看到，保存精度过低时，数据123456789发生了溢出，得到了错误的结果\n",
    "# 所以，一般使用tf.int32,tf.int64精度"
   ]
  },
  {
   "cell_type": "code",
   "execution_count": 9,
   "id": "645bffed",
   "metadata": {},
   "outputs": [
    {
     "data": {
      "text/plain": [
       "<tf.Tensor: shape=(), dtype=int32, numpy=123456789>"
      ]
     },
     "execution_count": 9,
     "metadata": {},
     "output_type": "execute_result"
    }
   ],
   "source": [
    "b = tf.constant(123456789, dtype=tf.int32)\n",
    "b"
   ]
  },
  {
   "cell_type": "code",
   "execution_count": 13,
   "id": "6a1d44f1",
   "metadata": {},
   "outputs": [],
   "source": [
    "# 创建flooat类型的标量"
   ]
  },
  {
   "cell_type": "code",
   "execution_count": 14,
   "id": "b6c9ab26",
   "metadata": {},
   "outputs": [
    {
     "data": {
      "text/plain": [
       "3.141592653589793"
      ]
     },
     "execution_count": 14,
     "metadata": {},
     "output_type": "execute_result"
    }
   ],
   "source": [
    "import numpy as np\n",
    "# 从 numpy 中导入 pi 常量\n",
    "np.pi "
   ]
  },
  {
   "cell_type": "code",
   "execution_count": 17,
   "id": "248c9ae2",
   "metadata": {},
   "outputs": [
    {
     "data": {
      "text/plain": [
       "<tf.Tensor: shape=(), dtype=float32, numpy=3.1415927>"
      ]
     },
     "execution_count": 17,
     "metadata": {},
     "output_type": "execute_result"
    }
   ],
   "source": [
    "tf.constant(np.pi, dtype=tf.float32)"
   ]
  },
  {
   "cell_type": "code",
   "execution_count": 18,
   "id": "8e14d239",
   "metadata": {},
   "outputs": [
    {
     "data": {
      "text/plain": [
       "<tf.Tensor: shape=(), dtype=float64, numpy=3.141592653589793>"
      ]
     },
     "execution_count": 18,
     "metadata": {},
     "output_type": "execute_result"
    }
   ],
   "source": [
    "tf.constant(np.pi, dtype=tf.float64)"
   ]
  },
  {
   "cell_type": "code",
   "execution_count": 19,
   "id": "f3fbfda8",
   "metadata": {},
   "outputs": [],
   "source": [
    "# 可以看到，对于浮点数， 高精度的张量可以表示更精准的数据"
   ]
  },
  {
   "cell_type": "code",
   "execution_count": 20,
   "id": "b38f56f9",
   "metadata": {},
   "outputs": [],
   "source": [
    "###2 读取精度与精度转换"
   ]
  },
  {
   "cell_type": "code",
   "execution_count": 21,
   "id": "b87c78a7",
   "metadata": {},
   "outputs": [],
   "source": [
    "a = tf.constant(np.pi, dtype=tf.float16)"
   ]
  },
  {
   "cell_type": "code",
   "execution_count": 22,
   "id": "951e3dfb",
   "metadata": {},
   "outputs": [
    {
     "name": "stdout",
     "output_type": "stream",
     "text": [
      "before: <dtype: 'float16'>\n"
     ]
    }
   ],
   "source": [
    "# 读取原有张量的数值精度\n",
    "print('before:',a.dtype)"
   ]
  },
  {
   "cell_type": "code",
   "execution_count": 23,
   "id": "448f9232",
   "metadata": {},
   "outputs": [],
   "source": [
    "# 如果精度不符合要求，则进行转换\n",
    "if a.dtype != tf.float32: \n",
    "    # tf.cast 函数可以完成精度转换\n",
    "    a = tf.cast(a,tf.float32) "
   ]
  },
  {
   "cell_type": "code",
   "execution_count": 25,
   "id": "44b49cb0",
   "metadata": {},
   "outputs": [
    {
     "name": "stdout",
     "output_type": "stream",
     "text": [
      "after : <dtype: 'float32'>\n"
     ]
    }
   ],
   "source": [
    "# 打印转换后的精度\n",
    "print('after :',a.dtype)"
   ]
  },
  {
   "cell_type": "code",
   "execution_count": null,
   "id": "e4eee543",
   "metadata": {},
   "outputs": [],
   "source": [
    "# 进行类型转换时，需要保证转换操作的合法性， 例如将高精度的张量转换为低精度的张量时，可能发生数据溢出隐患："
   ]
  },
  {
   "cell_type": "code",
   "execution_count": 26,
   "id": "36fb3d35",
   "metadata": {},
   "outputs": [
    {
     "data": {
      "text/plain": [
       "<tf.Tensor: shape=(), dtype=int16, numpy=-13035>"
      ]
     },
     "execution_count": 26,
     "metadata": {},
     "output_type": "execute_result"
    }
   ],
   "source": [
    "a = tf.constant(123456789, dtype=tf.int32)\n",
    "# 转换为低精度整型\n",
    "tf.cast(a, tf.int16)"
   ]
  },
  {
   "cell_type": "code",
   "execution_count": null,
   "id": "759e1f6d",
   "metadata": {},
   "outputs": [],
   "source": []
  }
 ],
 "metadata": {
  "kernelspec": {
   "display_name": "Python 3 (ipykernel)",
   "language": "python",
   "name": "python3"
  },
  "language_info": {
   "codemirror_mode": {
    "name": "ipython",
    "version": 3
   },
   "file_extension": ".py",
   "mimetype": "text/x-python",
   "name": "python",
   "nbconvert_exporter": "python",
   "pygments_lexer": "ipython3",
   "version": "3.9.7"
  }
 },
 "nbformat": 4,
 "nbformat_minor": 5
}
