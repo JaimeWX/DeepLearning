{
 "cells": [
  {
   "cell_type": "code",
   "execution_count": 2,
   "id": "44113d6f",
   "metadata": {},
   "outputs": [],
   "source": [
    "import tensorflow as tf"
   ]
  },
  {
   "cell_type": "code",
   "execution_count": 3,
   "id": "e49ed56d",
   "metadata": {},
   "outputs": [],
   "source": [
    "### 标量的应用\n",
    "    # 标量的一些典型用途是误差值的表示，各种测量指标的表示，如Accuracy,Precision,Recall etc."
   ]
  },
  {
   "cell_type": "code",
   "execution_count": 4,
   "id": "a67d2f32",
   "metadata": {},
   "outputs": [],
   "source": [
    "# 示例：求平均均方差（标量）"
   ]
  },
  {
   "cell_type": "code",
   "execution_count": 5,
   "id": "25d3a79e",
   "metadata": {},
   "outputs": [
    {
     "data": {
      "text/plain": [
       "<tf.Tensor: shape=(4, 10), dtype=float32, numpy=\n",
       "array([[0.00440001, 0.26303828, 0.8563602 , 0.5043329 , 0.8863994 ,\n",
       "        0.3594947 , 0.52962315, 0.02014339, 0.7715175 , 0.7418262 ],\n",
       "       [0.51165354, 0.37398887, 0.85096085, 0.23830247, 0.88795376,\n",
       "        0.53438294, 0.3917278 , 0.02296972, 0.23165679, 0.85793424],\n",
       "       [0.3033675 , 0.27247965, 0.92978024, 0.13046777, 0.81294096,\n",
       "        0.02179027, 0.26974535, 0.75264347, 0.77297544, 0.37631953],\n",
       "       [0.35077214, 0.77806914, 0.8403939 , 0.31394625, 0.25867867,\n",
       "        0.345515  , 0.8108183 , 0.05888331, 0.31872785, 0.5601127 ]],\n",
       "      dtype=float32)>"
      ]
     },
     "execution_count": 5,
     "metadata": {},
     "output_type": "execute_result"
    }
   ],
   "source": [
    "# 随机模拟网络输出\n",
    "    # 4x10 采样区间为[0,1)的均匀分布 \n",
    "    # 4个样例，每个样例有10个属性\n",
    "out = tf.random.uniform([4,10]) \n",
    "out"
   ]
  },
  {
   "cell_type": "code",
   "execution_count": 6,
   "id": "b51bd655",
   "metadata": {},
   "outputs": [
    {
     "data": {
      "text/plain": [
       "<tf.Tensor: shape=(4, 10), dtype=float32, numpy=\n",
       "array([[0., 0., 1., 0., 0., 0., 0., 0., 0., 0.],\n",
       "       [0., 0., 0., 1., 0., 0., 0., 0., 0., 0.],\n",
       "       [0., 0., 1., 0., 0., 0., 0., 0., 0., 0.],\n",
       "       [1., 0., 0., 0., 0., 0., 0., 0., 0., 0.]], dtype=float32)>"
      ]
     },
     "execution_count": 6,
     "metadata": {},
     "output_type": "execute_result"
    }
   ],
   "source": [
    "# 随机构造样本真实标签\n",
    "y = tf.constant([2,3,2,0]) # 4个样例所代表的类别标签\n",
    "# one-hot 编码\n",
    "y = tf.one_hot(y, depth=10)\n",
    "y"
   ]
  },
  {
   "cell_type": "code",
   "execution_count": 7,
   "id": "9ec3e67d",
   "metadata": {},
   "outputs": [
    {
     "name": "stdout",
     "output_type": "stream",
     "text": [
      "tf.Tensor([0.26855844 0.3723696  0.22279195 0.3094215 ], shape=(4,), dtype=float32)\n"
     ]
    }
   ],
   "source": [
    "# 计算每个样本的 MSE (均方差损失函数)\n",
    "loss = tf.keras.losses.mse(y, out)\n",
    "print(loss)"
   ]
  },
  {
   "cell_type": "code",
   "execution_count": 8,
   "id": "db86115b",
   "metadata": {},
   "outputs": [
    {
     "name": "stdout",
     "output_type": "stream",
     "text": [
      "tf.Tensor(0.29328537, shape=(), dtype=float32)\n"
     ]
    }
   ],
   "source": [
    "# 平均 MSE,loss 应是标量\n",
    "loss = tf.reduce_mean(loss) # 平均\n",
    "print(loss)"
   ]
  },
  {
   "cell_type": "code",
   "execution_count": null,
   "id": "66e6910e",
   "metadata": {},
   "outputs": [],
   "source": [
    "### 向量的应用"
   ]
  },
  {
   "cell_type": "code",
   "execution_count": null,
   "id": "0d4b24a5",
   "metadata": {},
   "outputs": [],
   "source": [
    "# 示例1：考虑 2 个输出节点的网络层， 创建长度为 2 的偏置向量b，并累加在每个输出节点上："
   ]
  },
  {
   "cell_type": "code",
   "execution_count": 10,
   "id": "40e28f81",
   "metadata": {},
   "outputs": [
    {
     "data": {
      "text/plain": [
       "<tf.Tensor: shape=(4, 2), dtype=float32, numpy=\n",
       "array([[-1.4462991 ,  0.03748394],\n",
       "       [ 0.03203115, -0.1788525 ],\n",
       "       [-0.42676398, -0.5305086 ],\n",
       "       [ 0.9406645 , -1.3922616 ]], dtype=float32)>"
      ]
     },
     "execution_count": 10,
     "metadata": {},
     "output_type": "execute_result"
    }
   ],
   "source": [
    "# z=wx,模拟获得激活函数的输入 z\n",
    "z = tf.random.normal([4,2])\n",
    "z"
   ]
  },
  {
   "cell_type": "code",
   "execution_count": 16,
   "id": "cc4b28d1",
   "metadata": {},
   "outputs": [
    {
     "data": {
      "text/plain": [
       "<tf.Tensor: shape=(2,), dtype=float32, numpy=array([0., 0.], dtype=float32)>"
      ]
     },
     "execution_count": 16,
     "metadata": {},
     "output_type": "execute_result"
    }
   ],
   "source": [
    "# 创建偏置向量\n",
    "b = tf.zeros([2])\n",
    "b"
   ]
  },
  {
   "cell_type": "code",
   "execution_count": 17,
   "id": "05e8294f",
   "metadata": {},
   "outputs": [
    {
     "data": {
      "text/plain": [
       "<tf.Tensor: shape=(4, 2), dtype=float32, numpy=\n",
       "array([[-0.44629908,  1.0374839 ],\n",
       "       [ 1.0320312 ,  0.8211475 ],\n",
       "       [ 0.573236  ,  0.46949142],\n",
       "       [ 1.9406645 , -0.39226162]], dtype=float32)>"
      ]
     },
     "execution_count": 17,
     "metadata": {},
     "output_type": "execute_result"
    }
   ],
   "source": [
    "# 累加上偏置向量\n",
    "z = z + b \n",
    "z"
   ]
  },
  {
   "cell_type": "code",
   "execution_count": 21,
   "id": "6ac05abc",
   "metadata": {},
   "outputs": [],
   "source": [
    "# 示例2：创建输入节点数为 4，输出节点数为 3 的线性层网络，那么它的偏置向量 b 的长度应为 3"
   ]
  },
  {
   "cell_type": "code",
   "execution_count": 22,
   "id": "4c4fbe40",
   "metadata": {},
   "outputs": [
    {
     "name": "stdout",
     "output_type": "stream",
     "text": [
      "<keras.layers.core.dense.Dense object at 0x000001AE84FFD3D0>\n"
     ]
    }
   ],
   "source": [
    "# 创建一层 Wx+b，输出节点为 3\n",
    "fc = tf.keras.layers.Dense(3)\n",
    "print(fc)"
   ]
  },
  {
   "cell_type": "code",
   "execution_count": 23,
   "id": "f0f54fe9",
   "metadata": {},
   "outputs": [],
   "source": [
    "# 通过 build 函数创建 W,b 张量，输入节点为 4\n",
    "fc.build(input_shape=(2,4))"
   ]
  },
  {
   "cell_type": "code",
   "execution_count": 24,
   "id": "cb6224bb",
   "metadata": {},
   "outputs": [
    {
     "data": {
      "text/plain": [
       "<tf.Variable 'bias:0' shape=(3,) dtype=float32, numpy=array([0., 0., 0.], dtype=float32)>"
      ]
     },
     "execution_count": 24,
     "metadata": {},
     "output_type": "execute_result"
    }
   ],
   "source": [
    "# 查看偏置向量\n",
    "fc.bias "
   ]
  },
  {
   "cell_type": "code",
   "execution_count": 25,
   "id": "51c89284",
   "metadata": {},
   "outputs": [],
   "source": [
    "### 矩阵的应用"
   ]
  },
  {
   "cell_type": "code",
   "execution_count": null,
   "id": "b5914f53",
   "metadata": {},
   "outputs": [],
   "source": [
    "# 示例1"
   ]
  },
  {
   "cell_type": "code",
   "execution_count": 26,
   "id": "bc226896",
   "metadata": {},
   "outputs": [
    {
     "data": {
      "text/plain": [
       "<tf.Tensor: shape=(2, 3), dtype=float32, numpy=\n",
       "array([[ 4.270505 ,  4.270505 ,  4.270505 ],\n",
       "       [-0.8736721, -0.8736721, -0.8736721]], dtype=float32)>"
      ]
     },
     "execution_count": 26,
     "metadata": {},
     "output_type": "execute_result"
    }
   ],
   "source": [
    "# 2 个样本，特征长度为 4 的张量\n",
    "x = tf.random.normal([2,4]) \n",
    "# 定义 W 张量\n",
    "w = tf.ones([4,3])\n",
    "# 定义 b 张量\n",
    "b = tf.zeros([3]) \n",
    "# X@W+b 运算\n",
    "o = x@w+b \n",
    "o"
   ]
  },
  {
   "cell_type": "code",
   "execution_count": null,
   "id": "607b7ca5",
   "metadata": {},
   "outputs": [],
   "source": [
    "# 示例2"
   ]
  },
  {
   "cell_type": "code",
   "execution_count": 27,
   "id": "3611f429",
   "metadata": {},
   "outputs": [
    {
     "data": {
      "text/plain": [
       "<tf.Variable 'kernel:0' shape=(4, 3) dtype=float32, numpy=\n",
       "array([[ 0.47602892,  0.47631538,  0.3989967 ],\n",
       "       [-0.04306078, -0.3699699 ,  0.41760516],\n",
       "       [ 0.5270711 , -0.44457114,  0.5008323 ],\n",
       "       [-0.7398998 ,  0.40547383,  0.05295223]], dtype=float32)>"
      ]
     },
     "execution_count": 27,
     "metadata": {},
     "output_type": "execute_result"
    }
   ],
   "source": [
    "# 定义全连接层的输出节点为 3\n",
    "fc = tf.keras.layers.Dense(3) \n",
    "# 定义全连接层的输入节点为 4\n",
    "fc.build(input_shape=(2,4)) \n",
    "# 查看权值矩阵 W\n",
    "fc.kernel "
   ]
  },
  {
   "cell_type": "code",
   "execution_count": null,
   "id": "cfa35146",
   "metadata": {},
   "outputs": [],
   "source": [
    "### 三维张量"
   ]
  },
  {
   "cell_type": "code",
   "execution_count": 29,
   "id": "129e23cc",
   "metadata": {},
   "outputs": [
    {
     "name": "stdout",
     "output_type": "stream",
     "text": [
      "Downloading data from https://storage.googleapis.com/tensorflow/tf-keras-datasets/imdb.npz\n",
      "17465344/17464789 [==============================] - 7s 0us/step\n",
      "17473536/17464789 [==============================] - 7s 0us/step\n"
     ]
    },
    {
     "data": {
      "text/plain": [
       "(25000, 80)"
      ]
     },
     "execution_count": 29,
     "metadata": {},
     "output_type": "execute_result"
    }
   ],
   "source": [
    "import tensorflow.keras as keras\n",
    "# 自动加载 IMDB 电影评价数据集\n",
    "(x_train,y_train),(x_test,y_test)=keras.datasets.imdb.load_data(num_words=10000)\n",
    "# 将句子填充、截断为等长 80 个单词的句子\n",
    "x_train = keras.preprocessing.sequence.pad_sequences(x_train,maxlen=80)\n",
    "x_train.shape"
   ]
  },
  {
   "cell_type": "code",
   "execution_count": 31,
   "id": "5f1f50ef",
   "metadata": {},
   "outputs": [
    {
     "data": {
      "text/plain": [
       "array([[  15,  256,    4, ...,   19,  178,   32],\n",
       "       [ 125,   68,    2, ...,   16,  145,   95],\n",
       "       [ 645,  662,    8, ...,    7,  129,  113],\n",
       "       ...,\n",
       "       [ 529,  443,    2, ...,    4, 3586,    2],\n",
       "       [ 286, 1814,   23, ...,   12,    9,   23],\n",
       "       [  97,   90,   35, ...,  204,  131,    9]])"
      ]
     },
     "execution_count": 31,
     "metadata": {},
     "output_type": "execute_result"
    }
   ],
   "source": [
    "x_train"
   ]
  },
  {
   "cell_type": "code",
   "execution_count": null,
   "id": "eec0502c",
   "metadata": {},
   "outputs": [],
   "source": [
    "# 可以看到 x_train 张量的 shape 为[25000,80]，其中 25000 表示句子个数， 80 表示每个句子共 80 个单词，每个单词使用数字编码方式表示。"
   ]
  },
  {
   "cell_type": "code",
   "execution_count": null,
   "id": "0b247e3b",
   "metadata": {},
   "outputs": [],
   "source": [
    "# 通过 layers.Embedding 层将数字编码的单词转换为长度为 100 个词向量："
   ]
  },
  {
   "cell_type": "code",
   "execution_count": 32,
   "id": "d9cb79cf",
   "metadata": {},
   "outputs": [
    {
     "data": {
      "text/plain": [
       "TensorShape([25000, 80, 100])"
      ]
     },
     "execution_count": 32,
     "metadata": {},
     "output_type": "execute_result"
    }
   ],
   "source": [
    "# 创建词向量 Embedding 层类\n",
    "embedding = tf.keras.layers.Embedding(10000, 100)\n",
    "# 将数字编码的单词转换为词向量\n",
    "out = embedding(x_train)\n",
    "out.shape"
   ]
  },
  {
   "cell_type": "code",
   "execution_count": 34,
   "id": "fb84edf5",
   "metadata": {},
   "outputs": [
    {
     "data": {
      "text/plain": [
       "<tf.Tensor: shape=(), dtype=float32, numpy=0.031038668>"
      ]
     },
     "execution_count": 34,
     "metadata": {},
     "output_type": "execute_result"
    }
   ],
   "source": [
    "out[0,0,0]"
   ]
  },
  {
   "cell_type": "code",
   "execution_count": null,
   "id": "2d5385d1",
   "metadata": {},
   "outputs": [],
   "source": [
    "# 可以看到，经过 Embedding 层编码后，句子张量的 shape 变为[25000,80,100]，其中 100 表示每个单词编码为长度是 100 的向量。"
   ]
  },
  {
   "cell_type": "code",
   "execution_count": 35,
   "id": "09a74a8a",
   "metadata": {},
   "outputs": [],
   "source": [
    "### 四维张量"
   ]
  },
  {
   "cell_type": "code",
   "execution_count": 37,
   "id": "efbf117e",
   "metadata": {},
   "outputs": [
    {
     "data": {
      "text/plain": [
       "TensorShape([4, 30, 30, 16])"
      ]
     },
     "execution_count": 37,
     "metadata": {},
     "output_type": "execute_result"
    }
   ],
   "source": [
    "import tensorflow.keras.layers as layers\n",
    "# 创建 32x32 的彩色图片输入，个数为 4\n",
    "x = tf.random.normal([4,32,32,3])\n",
    "# 创建卷积神经网络\n",
    "layer = layers.Conv2D(16, kernel_size=3)\n",
    "# 前向计算\n",
    "out = layer(x) \n",
    "# 输出大小\n",
    "out.shape"
   ]
  },
  {
   "cell_type": "code",
   "execution_count": 38,
   "id": "cf656cc0",
   "metadata": {},
   "outputs": [
    {
     "data": {
      "text/plain": [
       "TensorShape([3, 3, 3, 16])"
      ]
     },
     "execution_count": 38,
     "metadata": {},
     "output_type": "execute_result"
    }
   ],
   "source": [
    "# 访问卷积核张量\n",
    "layer.kernel.shape "
   ]
  }
 ],
 "metadata": {
  "kernelspec": {
   "display_name": "Python 3 (ipykernel)",
   "language": "python",
   "name": "python3"
  },
  "language_info": {
   "codemirror_mode": {
    "name": "ipython",
    "version": 3
   },
   "file_extension": ".py",
   "mimetype": "text/x-python",
   "name": "python",
   "nbconvert_exporter": "python",
   "pygments_lexer": "ipython3",
   "version": "3.9.7"
  }
 },
 "nbformat": 4,
 "nbformat_minor": 5
}
